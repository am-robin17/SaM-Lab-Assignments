{
  "nbformat": 4,
  "nbformat_minor": 0,
  "metadata": {
    "colab": {
      "provenance": [],
      "authorship_tag": "ABX9TyNFdLY/81x/MokwXKRDCcCi",
      "include_colab_link": true
    },
    "kernelspec": {
      "name": "python3",
      "display_name": "Python 3"
    },
    "language_info": {
      "name": "python"
    }
  },
  "cells": [
    {
      "cell_type": "markdown",
      "metadata": {
        "id": "view-in-github",
        "colab_type": "text"
      },
      "source": [
        "<a href=\"https://colab.research.google.com/github/am-robin17/SaM-Lab-Assignments/blob/main/Simulation_Lab_Assignment_02.ipynb\" target=\"_parent\"><img src=\"https://colab.research.google.com/assets/colab-badge.svg\" alt=\"Open In Colab\"/></a>"
      ]
    },
    {
      "cell_type": "code",
      "source": [
        "import numpy as np\n",
        "from sympy import Matrix\n",
        "import matplotlib.pyplot as plt\n",
        "import seaborn as sns\n"
      ],
      "metadata": {
        "id": "sX8pAoTvQcT-"
      },
      "execution_count": 1,
      "outputs": []
    },
    {
      "cell_type": "code",
      "source": [
        "# With Seed\n",
        "np.random.seed(10)  # Setting seed to 10\n",
        "seeded_matrix = np.random.randint(1, 51, (3, 3))\n",
        "print(\"Seeded Random Matrix:\\n\", seeded_matrix)"
      ],
      "metadata": {
        "colab": {
          "base_uri": "https://localhost:8080/"
        },
        "id": "VPfO78RMxE9p",
        "outputId": "282d946f-18fc-430f-b445-f39d5246906f"
      },
      "execution_count": 3,
      "outputs": [
        {
          "output_type": "stream",
          "name": "stdout",
          "text": [
            "Seeded Random Matrix:\n",
            " [[10 37 16]\n",
            " [ 1 50 29]\n",
            " [26 30 49]]\n"
          ]
        }
      ]
    },
    {
      "cell_type": "code",
      "source": [
        "# Without Seed\n",
        "np.random.seed(None)  # No seed, generates different values each time\n",
        "non_seeded_matrix = np.random.randint(1, 51, (3, 3))\n",
        "print(\"\\nNon-Seeded Random Matrix:\\n\", non_seeded_matrix)"
      ],
      "metadata": {
        "colab": {
          "base_uri": "https://localhost:8080/"
        },
        "id": "d-EYpZPcyArB",
        "outputId": "488285ff-9ad6-42e5-cbc1-59f0ba2c08f8"
      },
      "execution_count": 5,
      "outputs": [
        {
          "output_type": "stream",
          "name": "stdout",
          "text": [
            "\n",
            "Non-Seeded Random Matrix:\n",
            " [[19 14 18]\n",
            " [50 24 36]\n",
            " [44 27  1]]\n"
          ]
        }
      ]
    },
    {
      "cell_type": "code",
      "source": [
        "# Observation and Explanation\n",
        "\n",
        "# With Seed - When I executed the codes multiple times in Colab Notebook, it showed the same output each and every time. This is because we've set a seed and it allowed the code to retain the same output.\n",
        "\n",
        "# Without Seed - However, when executed the code without seed, the output changed each time I executed the code.\n",
        "\n",
        "# What \"Seed\" does here - A seed is an initial value provided to a pseudo-random number generator. It sets the starting point for the sequence of random numbers. In machine learning and simulations, fixing the seed ensures that results are consistent and comparable across multiple runs."
      ],
      "metadata": {
        "id": "-z5svSspyHsE"
      },
      "execution_count": 6,
      "outputs": []
    }
  ]
}