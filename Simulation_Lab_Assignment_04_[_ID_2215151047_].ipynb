{
  "nbformat": 4,
  "nbformat_minor": 0,
  "metadata": {
    "colab": {
      "provenance": [],
      "authorship_tag": "ABX9TyMo/ae0H+aMdilOSoN5h3Lv",
      "include_colab_link": true
    },
    "kernelspec": {
      "name": "python3",
      "display_name": "Python 3"
    },
    "language_info": {
      "name": "python"
    }
  },
  "cells": [
    {
      "cell_type": "markdown",
      "metadata": {
        "id": "view-in-github",
        "colab_type": "text"
      },
      "source": [
        "<a href=\"https://colab.research.google.com/github/am-robin17/SaM-Lab-Assignments/blob/main/Simulation_Lab_Assignment_04_%5B_ID_2215151047_%5D.ipynb\" target=\"_parent\"><img src=\"https://colab.research.google.com/assets/colab-badge.svg\" alt=\"Open In Colab\"/></a>"
      ]
    },
    {
      "cell_type": "markdown",
      "source": [
        "Name: Ajher Mahmud Robin\n",
        "\n",
        "ID: 2215151025\n",
        "\n",
        "*• Tasks:*\n",
        "\n",
        "Generate two sets of from a normal distribution and perform a two-sample t-test.\n",
        "\n",
        "* Randomly generate 50 values from a normal distribution with a chosen mean (μ1) and standard deviation.\n",
        "\n",
        "\n",
        "* Randomly generate 50 values from a normal distribution with a different mean (μ2) and standard deviation."
      ],
      "metadata": {
        "id": "nUBNIiL_7MS-"
      }
    },
    {
      "cell_type": "code",
      "source": [
        "import numpy as np\n",
        "import scipy.stats as stats\n",
        "import matplotlib.pyplot as plt"
      ],
      "metadata": {
        "id": "jCRftKwR7PAW"
      },
      "execution_count": 58,
      "outputs": []
    },
    {
      "cell_type": "code",
      "source": [
        "np.random.seed(0) #For generating the same sets of random numbers so that the determined result stays on point\n",
        "\n",
        "#Two random set of values with different means and standard distribution\n",
        "\n",
        "data1 = np.random.normal(3.5, 1.5, 50)\n",
        "data2 = np.random.normal(5.5, 1.25, 50)"
      ],
      "metadata": {
        "id": "01Rtx3Mx-LQ1"
      },
      "execution_count": 59,
      "outputs": []
    },
    {
      "cell_type": "code",
      "source": [
        "t_statistic, p_value = stats.ttest_ind(data1, data2, equal_var=False)"
      ],
      "metadata": {
        "id": "kkIiOjdv_TX9"
      },
      "execution_count": 60,
      "outputs": []
    },
    {
      "cell_type": "code",
      "source": [
        "mean_diff = np.mean(data1) - np.mean(data2)\n",
        "std_err = np.sqrt(np.var(data1, ddof=1)/len(data1) + np.var(data2, ddof=1)/len(data2))\n",
        "df = (std_err**4) / ((np.var(data1, ddof=1)/len(data1))**2 / (len(data1)-1) + (np.var(data2, ddof=1)/len(data2))**2 / (len(data2)-1))\n",
        "ci = stats.t.interval(0.95, df, loc=mean_diff, scale=std_err)"
      ],
      "metadata": {
        "id": "yXkJvAzk_V5q"
      },
      "execution_count": 61,
      "outputs": []
    },
    {
      "cell_type": "code",
      "source": [
        "print(f\"Sample 1 Mean: {np.mean(data1):.2f}\")\n",
        "print(f\"Sample 2 Mean: {np.mean(data2):.2f}\")\n",
        "print(f\"t-Statistic: {t_statistic:.2f}\")\n",
        "print(f\"Degrees of Freedom: {df:.2f}\")\n",
        "print(f\"p-Value: {p_value:.4f}\")\n",
        "print(f\"Confidence Interval of Mean Difference: [{ci[0]:.2f}, {ci[1]:.2f}]\")"
      ],
      "metadata": {
        "colab": {
          "base_uri": "https://localhost:8080/"
        },
        "id": "-rp5FS26_Z2X",
        "outputId": "35f90101-8959-44d9-8e7f-8718c4a0e4b3"
      },
      "execution_count": 62,
      "outputs": [
        {
          "output_type": "stream",
          "name": "stdout",
          "text": [
            "Sample 1 Mean: 3.71\n",
            "Sample 2 Mean: 5.47\n",
            "t-Statistic: -6.15\n",
            "Degrees of Freedom: 83.52\n",
            "p-Value: 0.0000\n",
            "Confidence Interval of Mean Difference: [-2.33, -1.19]\n"
          ]
        }
      ]
    },
    {
      "cell_type": "code",
      "source": [
        "alpha = 0.07  # Significance level\n",
        "if p_value < alpha:\n",
        "    print(\"Reject the null hypothesis. The means of the two samples are significantly different.\")\n",
        "else:\n",
        "    print(\"Fail to reject the null hypothesis. The means of the two samples are not significantly different.\")"
      ],
      "metadata": {
        "colab": {
          "base_uri": "https://localhost:8080/"
        },
        "id": "VZZve0-8_huh",
        "outputId": "67d0a9f2-7905-4f2d-e5f5-82a1e905b8c3"
      },
      "execution_count": 63,
      "outputs": [
        {
          "output_type": "stream",
          "name": "stdout",
          "text": [
            "Reject the null hypothesis. The means of the two samples are significantly different.\n"
          ]
        }
      ]
    },
    {
      "cell_type": "markdown",
      "source": [
        "**Determining the Result**\n",
        "\n",
        "\n",
        "The p-value represents the probability of getting an extreme result if the null hypothesis were true. Therefore, we set a threshold as the significance level.\n",
        "\n",
        "\n",
        "\n",
        "*   If the p-value is less than the significance level, it suggests that an extreme result would be unlikely under the null hypothesis.\n",
        "\n",
        "*   However, should the p-value is greater than the significance level, it indicates that the means are different and it can't reject the null hypothesis.\n",
        "\n",
        "\n",
        "\n",
        "Since I set the alpha as 0.07 and the p-value was smaller than the alpha value, I am concluding that the means are **significantly different** for this test.\n"
      ],
      "metadata": {
        "id": "qPh7A2jXDZv2"
      }
    },
    {
      "cell_type": "code",
      "source": [
        "#The visualization part even though it wasn't specified to be included in the tasks\n",
        "\n",
        "plt.figure(figsize=(6, 4))\n",
        "plt.bar(['Sample 1', 'Sample 2'], [np.mean(data1), np.mean(data2)], color=['cyan', 'purple'], alpha=0.79)\n",
        "plt.errorbar(['Sample 1', 'Sample 2'], [np.mean(data1), np.mean(data2)], yerr=[np.std(data1, ddof=1), np.std(data2, ddof=1)], fmt='k_', capsize=5)\n",
        "plt.title('Comparison of Sample Means')\n",
        "plt.ylabel('Mean Value')\n",
        "plt.grid(True)\n",
        "plt.show()"
      ],
      "metadata": {
        "colab": {
          "base_uri": "https://localhost:8080/",
          "height": 391
        },
        "id": "ow__cdhe_nU_",
        "outputId": "907d5b92-7274-4bf7-e967-941db989326d"
      },
      "execution_count": 64,
      "outputs": [
        {
          "output_type": "display_data",
          "data": {
            "text/plain": [
              "<Figure size 600x400 with 1 Axes>"
            ],
            "image/png": "[encoded data removed]"
          },
          "metadata": {}
        }
      ]
    }
  ]
}